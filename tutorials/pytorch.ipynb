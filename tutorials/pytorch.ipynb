{
 "cells": [
  {
   "cell_type": "markdown",
   "metadata": {},
   "source": [
    "# Deep Learning мастерская\n",
    "\n",
    "## Pytorch - НАЧАЛО!\n",
    "\n",
    "Здесь мы изучим базовые понятия pytorch и фундаментальные кирпичики. http://pytorch.org/. Убедитесь что он у вас установлен. На сайте более чем понятно, как это сделать.\n",
    "Также удостоверьтесь, что у вас стоит свежая версия **numpy**. \n",
    "\n",
    "\n",
    "\n",
    "\n",
    "Кого интересует разница между TensorFlow и Pytorch - вот [здесь](https://towardsdatascience.com/pytorch-vs-tensorflow-spotting-the-difference-25c75777377b) можно почитать подробнее.\n"
   ]
  },
  {
   "cell_type": "markdown",
   "metadata": {},
   "source": [
    "## Импортирование"
   ]
  },
  {
   "cell_type": "code",
   "execution_count": 366,
   "metadata": {},
   "outputs": [
    {
     "name": "stdout",
     "output_type": "stream",
     "text": [
      "0.4.0\n"
     ]
    }
   ],
   "source": [
    "import torch\n",
    "print(torch.__version__)"
   ]
  },
  {
   "cell_type": "markdown",
   "metadata": {},
   "source": [
    "### Как numpy"
   ]
  },
  {
   "cell_type": "markdown",
   "metadata": {},
   "source": [
    "Массивы в numpy "
   ]
  },
  {
   "cell_type": "code",
   "execution_count": 367,
   "metadata": {},
   "outputs": [
    {
     "name": "stdout",
     "output_type": "stream",
     "text": [
      "X :\n",
      "[[ 0  1  2  3]\n",
      " [ 4  5  6  7]\n",
      " [ 8  9 10 11]\n",
      " [12 13 14 15]]\n",
      "\n",
      "X.shape : (4, 4)\n",
      "\n",
      "add 5 :\n",
      "[[ 5  6  7  8]\n",
      " [ 9 10 11 12]\n",
      " [13 14 15 16]\n",
      " [17 18 19 20]]\n",
      "\n",
      "X*X^T  :\n",
      "[[ 14  38  62  86]\n",
      " [ 38 126 214 302]\n",
      " [ 62 214 366 518]\n",
      " [ 86 302 518 734]]\n",
      "\n",
      "mean over cols :\n",
      "[ 1.5  5.5  9.5 13.5]\n",
      "\n",
      "cumsum of cols :\n",
      "[[ 0  1  2  3]\n",
      " [ 4  6  8 10]\n",
      " [12 15 18 21]\n",
      " [24 28 32 36]]\n",
      "\n"
     ]
    }
   ],
   "source": [
    "from  __future__  import print_function\n",
    "import numpy as np\n",
    "x = np.arange(16).reshape(4,4)\n",
    "\n",
    "print(\"X :\\n%s\\n\" % x)\n",
    "print(\"X.shape : %s\\n\" % (x.shape,))\n",
    "print(\"add 5 :\\n%s\\n\" % (x + 5))\n",
    "print(\"X*X^T  :\\n%s\\n\" % np.dot(x,x.T))\n",
    "print(\"mean over cols :\\n%s\\n\" % (x.mean(axis=-1)))\n",
    "print(\"cumsum of cols :\\n%s\\n\" % (np.cumsum(x,axis=0)))"
   ]
  },
  {
   "cell_type": "markdown",
   "metadata": {},
   "source": [
    "### pytorch\n",
    "Хорошо, давайте попробуем pytorch"
   ]
  },
  {
   "cell_type": "code",
   "execution_count": 368,
   "metadata": {},
   "outputs": [
    {
     "name": "stdout",
     "output_type": "stream",
     "text": [
      "x: tensor([[ 0.0000e+00,  0.0000e+00,  0.0000e+00],\n",
      "        [ 0.0000e+00,  0.0000e+00,  0.0000e+00],\n",
      "        [ 0.0000e+00,  0.0000e+00,  0.0000e+00],\n",
      "        [ 0.0000e+00,  5.3698e-42,  0.0000e+00],\n",
      "        [ 0.0000e+00,  6.9768e+22,  0.0000e+00]]) \n",
      " r: tensor([[ 0.3343,  0.7549,  0.5344],\n",
      "        [ 0.4375,  0.0716,  0.8813],\n",
      "        [ 0.7735,  0.9566,  0.7316],\n",
      "        [ 0.5687,  0.8705,  0.9859],\n",
      "        [ 0.1002,  0.5380,  0.0787]]) \n",
      " z: tensor([[ 0,  0,  0],\n",
      "        [ 0,  0,  0],\n",
      "        [ 0,  0,  0],\n",
      "        [ 0,  0,  0],\n",
      "        [ 0,  0,  0]]) \n",
      " t: tensor([ 5.5000,  3.0000])\n"
     ]
    }
   ],
   "source": [
    "x = torch.empty(5, 3) \n",
    "r = torch.rand(5, 3)\n",
    "z = torch.zeros(5, 3, dtype=torch.long)\n",
    "t = torch.tensor([5.5, 3]) # constract tensor from data directly\n",
    "print('x:', x, '\\n', 'r:', r, '\\n', 'z:', z, '\\n', 't:', t)"
   ]
  },
  {
   "cell_type": "code",
   "execution_count": 369,
   "metadata": {},
   "outputs": [
    {
     "name": "stdout",
     "output_type": "stream",
     "text": [
      "tensor([[ 0.0000e+00,  0.0000e+00,  0.0000e+00],\n",
      "        [ 0.0000e+00,  0.0000e+00,  0.0000e+00],\n",
      "        [ 0.0000e+00,  0.0000e+00,  0.0000e+00],\n",
      "        [ 0.0000e+00,  5.3698e-42,  0.0000e+00],\n",
      "        [ 0.0000e+00,  6.9768e+22,  0.0000e+00]])\n",
      "tensor([[ 3.3434e-01,  7.5491e-01,  5.3443e-01],\n",
      "        [ 4.3751e-01,  7.1637e-02,  8.8134e-01],\n",
      "        [ 7.7353e-01,  9.5663e-01,  7.3158e-01],\n",
      "        [ 5.6871e-01,  8.7053e-01,  9.8593e-01],\n",
      "        [ 1.0016e-01,  6.9768e+22,  7.8749e-02]])\n"
     ]
    }
   ],
   "source": [
    "# addition tensors\n",
    "result = torch.empty(5, 3)\n",
    "torch.add(x, r, out=result)\n",
    "\n",
    "print(x)\n",
    "print(result)"
   ]
  },
  {
   "cell_type": "markdown",
   "metadata": {},
   "source": [
    "Eсть методы с подчеркиванием на конце, а есть без, например, `add_` и `add`. _ это аналог атрибута `inplace=True`. Давайте посмотрим на примеры."
   ]
  },
  {
   "cell_type": "code",
   "execution_count": 370,
   "metadata": {},
   "outputs": [
    {
     "name": "stdout",
     "output_type": "stream",
     "text": [
      "x: tensor([[ 0.0000e+00,  0.0000e+00,  0.0000e+00],\n",
      "        [ 0.0000e+00,  0.0000e+00,  0.0000e+00],\n",
      "        [ 0.0000e+00,  0.0000e+00,  0.0000e+00],\n",
      "        [ 0.0000e+00,  5.3698e-42,  0.0000e+00],\n",
      "        [ 0.0000e+00,  6.9768e+22,  0.0000e+00]])\n",
      "again x, the same: tensor([[ 0.0000e+00,  0.0000e+00,  0.0000e+00],\n",
      "        [ 0.0000e+00,  0.0000e+00,  0.0000e+00],\n",
      "        [ 0.0000e+00,  0.0000e+00,  0.0000e+00],\n",
      "        [ 0.0000e+00,  5.3698e-42,  0.0000e+00],\n",
      "        [ 0.0000e+00,  6.9768e+22,  0.0000e+00]])\n",
      "x with add_ tensor([[ 3.3434e-01,  7.5491e-01,  5.3443e-01],\n",
      "        [ 4.3751e-01,  7.1637e-02,  8.8134e-01],\n",
      "        [ 7.7353e-01,  9.5663e-01,  7.3158e-01],\n",
      "        [ 5.6871e-01,  8.7053e-01,  9.8593e-01],\n",
      "        [ 1.0016e-01,  6.9768e+22,  7.8749e-02]])\n"
     ]
    }
   ],
   "source": [
    "print('x:', x)\n",
    "x.add(r)\n",
    "print('again x, the same:', x)\n",
    "x.add_(r)\n",
    "print('x with add_', x)"
   ]
  },
  {
   "cell_type": "code",
   "execution_count": 371,
   "metadata": {},
   "outputs": [
    {
     "name": "stdout",
     "output_type": "stream",
     "text": [
      "torch.Size([5, 3])\n"
     ]
    }
   ],
   "source": [
    "print(x.size()) # get the size"
   ]
  },
  {
   "cell_type": "markdown",
   "metadata": {},
   "source": [
    "Хорошо. Давайте пильнем тензоры из нумпаевских."
   ]
  },
  {
   "cell_type": "code",
   "execution_count": 372,
   "metadata": {},
   "outputs": [
    {
     "name": "stdout",
     "output_type": "stream",
     "text": [
      "X :\n",
      "tensor([[  0.,   1.,   2.,   3.],\n",
      "        [  4.,   5.,   6.,   7.],\n",
      "        [  8.,   9.,  10.,  11.],\n",
      "        [ 12.,  13.,  14.,  15.]])\n",
      "X.shape : torch.Size([4, 4])\n",
      "\n",
      "add 5 :\n",
      "tensor([[  5.,   6.,   7.,   8.],\n",
      "        [  9.,  10.,  11.,  12.],\n",
      "        [ 13.,  14.,  15.,  16.],\n",
      "        [ 17.,  18.,  19.,  20.]])\n",
      "X*X^T  :\n",
      "tensor([[  14.,   38.,   62.,   86.],\n",
      "        [  38.,  126.,  214.,  302.],\n",
      "        [  62.,  214.,  366.,  518.],\n",
      "        [  86.,  302.,  518.,  734.]])\n",
      "mean over cols :\n",
      "tensor([  1.5000,   5.5000,   9.5000,  13.5000])\n",
      "cumsum of cols :\n",
      "tensor([[  0.,   1.,   2.,   3.],\n",
      "        [  4.,   6.,   8.,  10.],\n",
      "        [ 12.,  15.,  18.,  21.],\n",
      "        [ 24.,  28.,  32.,  36.]])\n"
     ]
    }
   ],
   "source": [
    "x = np.arange(16).reshape(4,4)\n",
    "\n",
    "x = torch.from_numpy(x).type(torch.FloatTensor) #or torch.arange(0,16).view(4,4)\n",
    "\n",
    "print (\"X :\\n%s\" % x)\n",
    "print(\"X.shape : %s\\n\" % (x.shape,))\n",
    "print (\"add 5 :\\n%s\" % (x+5))\n",
    "print (\"X*X^T  :\\n%s\" % torch.matmul(x,x.transpose(1,0)))\n",
    "print (\"mean over cols :\\n%s\" % torch.mean(x,dim=-1))\n",
    "print (\"cumsum of cols :\\n%s\" % torch.cumsum(x,dim=0))"
   ]
  },
  {
   "cell_type": "markdown",
   "metadata": {},
   "source": [
    "Хорошо. Кто знаком с numpy, то может заметить, что некоторые похожие методы в numpy называются чуть иначе в pytorch. Например `numpy.rehsape()` в pytorch будет `torch.view()`. Полный список различий в методах можно глянуть вот [**тут**](https://github.com/torch/torch7/wiki/Torch-for-Numpy-users)."
   ]
  },
  {
   "cell_type": "markdown",
   "metadata": {},
   "source": [
    "## CUDA"
   ]
  },
  {
   "cell_type": "markdown",
   "metadata": {},
   "source": [
    "Чтобы ваши вычисления были быстрее, pytorch из коробки поддерживает GPU без танцев с бубном и всеми остальными прелестями настройки юзания видеокарт. Делается элементарно. "
   ]
  },
  {
   "cell_type": "code",
   "execution_count": 373,
   "metadata": {},
   "outputs": [
    {
     "name": "stdout",
     "output_type": "stream",
     "text": [
      "tensor([[  1.,   2.,   3.,   4.],\n",
      "        [  5.,   6.,   7.,   8.],\n",
      "        [  9.,  10.,  11.,  12.],\n",
      "        [ 13.,  14.,  15.,  16.]], device='cuda:0')\n",
      "tensor([[  1.,   2.,   3.,   4.],\n",
      "        [  5.,   6.,   7.,   8.],\n",
      "        [  9.,  10.,  11.,  12.],\n",
      "        [ 13.,  14.,  15.,  16.]], dtype=torch.float64)\n"
     ]
    }
   ],
   "source": [
    "# let us run this cell only if CUDA is available\n",
    "# We will use ``torch.device`` objects to move tensors in and out of GPU\n",
    "if torch.cuda.is_available():\n",
    "    device = torch.device(\"cuda\")          # a CUDA device object\n",
    "    y = torch.ones_like(x, device=device)  # directly create a tensor on GPU\n",
    "    x = x.to(device)                       # or just use strings ``.to(\"cuda\")``\n",
    "    z = x + y\n",
    "    print(z)\n",
    "    print(z.to(\"cpu\", torch.double))       # ``.to`` can also change dtype together!"
   ]
  },
  {
   "cell_type": "markdown",
   "metadata": {},
   "source": [
    "Теперь, чтобы мутить обучение поглубже, нам нужно что то типа обратного распространения ошибки (backpropagation). Сама по себе тема сложная (на самом деле нет (привет, meduza)), но разберемся с этим чуть позже. "
   ]
  },
  {
   "cell_type": "markdown",
   "metadata": {},
   "source": [
    "## Autograd"
   ]
  },
  {
   "cell_type": "markdown",
   "metadata": {},
   "source": [
    "В pytorch есть `autograd`, который позволяет дифференцировать автоматически для всех операций на тензорах. Это значит, что обратное распространение ошибки будет считаться автоматически по тому пути, как вы определили сеть, и может выполнить дифференцирование для каждой итерации. "
   ]
  },
  {
   "cell_type": "markdown",
   "metadata": {},
   "source": [
    "`torch.Tensor` центральный класс pytorch. Если указать атрибут `.require_grad`, то каждая операция будет отслеживаться и запоминаться, и когда вы закончите вычисления, мы можем вызвать метод `.backward()` и пайторч нам вычислит ошибку на каждой итерации автоматически. Градиенты будут хранится в атрибуте`.grad`. \n",
    "\n",
    "Можно и сказать пайторчу, чтобы он не трекал операции через `with torch.no_grad():`."
   ]
  },
  {
   "cell_type": "code",
   "execution_count": 374,
   "metadata": {},
   "outputs": [
    {
     "name": "stdout",
     "output_type": "stream",
     "text": [
      "tensor([[ 1.,  1.],\n",
      "        [ 1.,  1.]])\n"
     ]
    }
   ],
   "source": [
    "x = torch.ones(2, 2, requires_grad=True)\n",
    "print(x)"
   ]
  },
  {
   "cell_type": "code",
   "execution_count": 375,
   "metadata": {},
   "outputs": [
    {
     "name": "stdout",
     "output_type": "stream",
     "text": [
      "tensor([[ 3.,  3.],\n",
      "        [ 3.,  3.]])\n"
     ]
    }
   ],
   "source": [
    "y = x + 2\n",
    "print(y)"
   ]
  },
  {
   "cell_type": "code",
   "execution_count": 376,
   "metadata": {},
   "outputs": [
    {
     "name": "stdout",
     "output_type": "stream",
     "text": [
      "<AddBackward0 object at 0x0000020569B5DF98>\n"
     ]
    }
   ],
   "source": [
    "print(y.grad_fn) # so we can compute grad easy"
   ]
  },
  {
   "cell_type": "markdown",
   "metadata": {},
   "source": [
    "Хорошо. Давайте добавим вычислений."
   ]
  },
  {
   "cell_type": "code",
   "execution_count": 377,
   "metadata": {},
   "outputs": [
    {
     "name": "stdout",
     "output_type": "stream",
     "text": [
      "tensor([[ 27.,  27.],\n",
      "        [ 27.,  27.]]) tensor(27.)\n"
     ]
    }
   ],
   "source": [
    "z = y * y * 3\n",
    "out = z.mean()\n",
    "\n",
    "print(z, out)"
   ]
  },
  {
   "cell_type": "markdown",
   "metadata": {},
   "source": [
    "Давайте обратно продифференцируем нашу маленькую функцию, потому что она содержит просто один скаляр, `out.backward()` эквивалентно `out.backward(torch.tensor(1))`."
   ]
  },
  {
   "cell_type": "code",
   "execution_count": 378,
   "metadata": {},
   "outputs": [
    {
     "name": "stdout",
     "output_type": "stream",
     "text": [
      "tensor([[ 4.5000,  4.5000],\n",
      "        [ 4.5000,  4.5000]])\n"
     ]
    }
   ],
   "source": [
    "out.backward()\n",
    "print(x.grad) # d(out)/dx"
   ]
  },
  {
   "cell_type": "markdown",
   "metadata": {},
   "source": [
    "Прикольнемся дальше."
   ]
  },
  {
   "cell_type": "code",
   "execution_count": 379,
   "metadata": {},
   "outputs": [
    {
     "name": "stdout",
     "output_type": "stream",
     "text": [
      "tensor([-306.2654,  730.2112,  919.5482])\n"
     ]
    }
   ],
   "source": [
    "x = torch.randn(3, requires_grad=True)\n",
    "\n",
    "y = x * 2\n",
    "while y.data.norm() < 1000:\n",
    "    y = y * 2\n",
    "\n",
    "print(y)"
   ]
  },
  {
   "cell_type": "code",
   "execution_count": 380,
   "metadata": {},
   "outputs": [
    {
     "name": "stdout",
     "output_type": "stream",
     "text": [
      "tensor([  51.2000,  512.0000,    0.0512])\n"
     ]
    }
   ],
   "source": [
    "gradients = torch.tensor([0.1, 1.0, 0.0001], dtype=torch.float)\n",
    "y.backward(gradients)\n",
    "\n",
    "print(x.grad)"
   ]
  },
  {
   "cell_type": "markdown",
   "metadata": {},
   "source": [
    "Теперь ближе к реальности."
   ]
  },
  {
   "cell_type": "code",
   "execution_count": 381,
   "metadata": {},
   "outputs": [
    {
     "data": {
      "image/png": "[encoded data removed]",
      "text/plain": [
       "<Figure size 432x288 with 1 Axes>"
      ]
     },
     "metadata": {},
     "output_type": "display_data"
    }
   ],
   "source": [
    "import matplotlib.pyplot as plt\n",
    "%matplotlib inline\n",
    "from sklearn.datasets import load_boston\n",
    "boston = load_boston()\n",
    "plt.scatter(boston.data[:, -1], boston.target);"
   ]
  },
  {
   "cell_type": "code",
   "execution_count": null,
   "metadata": {},
   "outputs": [],
   "source": []
  },
  {
   "cell_type": "code",
   "execution_count": 382,
   "metadata": {},
   "outputs": [],
   "source": [
    "w = torch.zeros(1, requires_grad=True)\n",
    "b = torch.zeros(1, requires_grad=True)\n",
    "\n",
    "x = torch.tensor(5.)\n",
    "y = torch.tensor(10.)\n",
    "\n",
    "\n",
    "y_pred = w * x + b\n",
    "loss = torch.mean( (y_pred - y)**2 )\n",
    "\n",
    "# propagete gradients\n",
    "loss.backward()\n"
   ]
  },
  {
   "cell_type": "markdown",
   "metadata": {},
   "source": [
    "$(\\omega*x + b - y)^2$"
   ]
  },
  {
   "cell_type": "code",
   "execution_count": 383,
   "metadata": {},
   "outputs": [
    {
     "data": {
      "text/plain": [
       "tensor([-100.])"
      ]
     },
     "execution_count": 383,
     "metadata": {},
     "output_type": "execute_result"
    }
   ],
   "source": [
    "w.grad"
   ]
  },
  {
   "cell_type": "code",
   "execution_count": 384,
   "metadata": {},
   "outputs": [],
   "source": [
    "from torch.autograd import Variable\n",
    "w = torch.zeros(1, requires_grad=True)\n",
    "b = torch.zeros(1, requires_grad=True)\n",
    "\n",
    "x = torch.tensor(torch.FloatTensor(boston.data[:,-1] / 10))\n",
    "y = torch.tensor(torch.FloatTensor(boston.target))\n",
    "\n",
    "\n",
    "y_pred = w * x + b\n",
    "loss = torch.mean( (y_pred - y)**2 )\n",
    "\n",
    "# propagete gradients\n",
    "loss.backward()"
   ]
  },
  {
   "cell_type": "code",
   "execution_count": 385,
   "metadata": {},
   "outputs": [
    {
     "name": "stdout",
     "output_type": "stream",
     "text": [
      "dL/dw = \n",
      " tensor([-47.3514])\n",
      "dL/db = \n",
      " tensor([-45.0656])\n"
     ]
    }
   ],
   "source": [
    "print(\"dL/dw = \\n\", w.grad)\n",
    "print(\"dL/db = \\n\", b.grad)"
   ]
  },
  {
   "cell_type": "markdown",
   "metadata": {},
   "source": [
    "Если считать градиенты для нескольких лоссов, градиет будет добавляться в переменные, тогда удобно занулять градиенты между итерациями."
   ]
  },
  {
   "cell_type": "code",
   "execution_count": 386,
   "metadata": {},
   "outputs": [
    {
     "data": {
      "image/png": "[encoded data removed]",
      "text/plain": [
       "<Figure size 432x288 with 1 Axes>"
      ]
     },
     "metadata": {},
     "output_type": "display_data"
    },
    {
     "name": "stdout",
     "output_type": "stream",
     "text": [
      "loss =  44.594173\n"
     ]
    }
   ],
   "source": [
    "from IPython.display import clear_output\n",
    "\n",
    "for i in range(100):\n",
    "\n",
    "    y_pred = w * x  + b\n",
    "    loss = torch.mean( (y_pred - y)**2 )\n",
    "    loss.backward()\n",
    "\n",
    "    w.data -= 0.05 * w.grad.data\n",
    "    b.data -= 0.05 * b.grad.data\n",
    "    \n",
    "    #zero gradients\n",
    "    w.grad.data.zero_()\n",
    "    b.grad.data.zero_()\n",
    "    \n",
    "    # the rest of code is just bells and whistles\n",
    "    if (i+1)%5==0:\n",
    "        clear_output(True)\n",
    "        plt.scatter(x.data.numpy(), y.data.numpy())\n",
    "        plt.scatter(x.data.numpy(), y_pred.data.numpy(), color='orange', linewidth=5)\n",
    "        plt.show()\n",
    "\n",
    "        print(\"loss = \", loss.data.numpy())\n",
    "        if loss.data.numpy() < 0.5:\n",
    "            print(\"Done!\")\n",
    "            break"
   ]
  },
  {
   "cell_type": "markdown",
   "metadata": {},
   "source": [
    "# НЕЙРОСЕТКИ\n",
    "Ладно давайте уже к мякотке!\n",
    "Запилим базовую сверточную сетку."
   ]
  },
  {
   "cell_type": "code",
   "execution_count": 387,
   "metadata": {},
   "outputs": [
    {
     "name": "stdout",
     "output_type": "stream",
     "text": [
      "Net(\n",
      "  (conv1): Conv2d(1, 6, kernel_size=(5, 5), stride=(1, 1))\n",
      "  (conv2): Conv2d(6, 16, kernel_size=(5, 5), stride=(1, 1))\n",
      "  (fc1): Linear(in_features=400, out_features=120, bias=True)\n",
      "  (fc2): Linear(in_features=120, out_features=84, bias=True)\n",
      "  (fc3): Linear(in_features=84, out_features=10, bias=True)\n",
      ")\n"
     ]
    }
   ],
   "source": [
    "import torch\n",
    "import torch.nn as nn\n",
    "import torch.nn.functional as F\n",
    "\n",
    "\n",
    "class Net(nn.Module):\n",
    "\n",
    "    def __init__(self):\n",
    "        super(Net, self).__init__()\n",
    "        # 1 input image channel, 6 output channels, 5x5 square convolution\n",
    "        # kernel\n",
    "        self.conv1 = nn.Conv2d(1, 6, 5)\n",
    "        self.conv2 = nn.Conv2d(6, 16, 5)\n",
    "        # an affine operation: y = Wx + b\n",
    "        self.fc1 = nn.Linear(16 * 5 * 5, 120)\n",
    "        self.fc2 = nn.Linear(120, 84)\n",
    "        self.fc3 = nn.Linear(84, 10)\n",
    "\n",
    "    def forward(self, x):\n",
    "        # Max pooling over a (2, 2) window\n",
    "        x = F.max_pool2d(F.relu(self.conv1(x)), (2, 2))\n",
    "        # If the size is a square you can only specify a single number\n",
    "        x = F.max_pool2d(F.relu(self.conv2(x)), 2)\n",
    "        x = x.view(-1, self.num_flat_features(x))\n",
    "        x = F.relu(self.fc1(x))\n",
    "        x = F.relu(self.fc2(x))\n",
    "        x = self.fc3(x)\n",
    "        return x\n",
    "\n",
    "    def num_flat_features(self, x):\n",
    "        size = x.size()[1:]  # all dimensions except the batch dimension\n",
    "        num_features = 1\n",
    "        for s in size:\n",
    "            num_features *= s\n",
    "        return num_features\n",
    "\n",
    "\n",
    "net = Net()\n",
    "print(net)"
   ]
  },
  {
   "cell_type": "markdown",
   "metadata": {},
   "source": [
    "Функция `forward` обязательная и ее нужно определять, потому что она используются автоградом в `backward`.  В `forward` можно и нужно определять тензоры (и слои сетки)\n",
    "Обучаемые параметры в сетке лежат в `net.paramentrs()`"
   ]
  },
  {
   "cell_type": "code",
   "execution_count": 388,
   "metadata": {},
   "outputs": [
    {
     "name": "stdout",
     "output_type": "stream",
     "text": [
      "10\n",
      "torch.Size([6, 1, 5, 5])\n"
     ]
    }
   ],
   "source": [
    "params = list(net.parameters())\n",
    "print(len(params))\n",
    "print(params[0].size())  # conv1's .weight"
   ]
  },
  {
   "cell_type": "markdown",
   "metadata": {},
   "source": [
    "Ну давайте прогоним какой нибудь невнятный шум через нашу сетку."
   ]
  },
  {
   "cell_type": "code",
   "execution_count": 389,
   "metadata": {},
   "outputs": [
    {
     "name": "stdout",
     "output_type": "stream",
     "text": [
      "tensor([[-0.1022, -0.0126, -0.1248,  0.0271, -0.0098,  0.0544,  0.0054,\n",
      "          0.0324,  0.1035,  0.0132]])\n"
     ]
    }
   ],
   "source": [
    "input = torch.randn(1, 1, 32, 32)\n",
    "out = net(input)\n",
    "print(out) "
   ]
  },
  {
   "cell_type": "markdown",
   "metadata": {},
   "source": [
    "**УРА**\n",
    "\n",
    "**But!**\n",
    "\n",
    "\n",
    "![](https://i.kym-cdn.com/photos/images/newsfeed/000/531/557/a88.jpg)"
   ]
  },
  {
   "cell_type": "markdown",
   "metadata": {},
   "source": [
    "Итак мы немного изучили низкоуровневый пайторч и совсем чуть высокий уровень API. Теперь немного потренируемся ручками и головой. Придется написать [логрегрессию](https://ru.wikipedia.org/wiki/%D0%9B%D0%BE%D0%B3%D0%B8%D1%81%D1%82%D0%B8%D1%87%D0%B5%D1%81%D0%BA%D0%B0%D1%8F_%D1%80%D0%B5%D0%B3%D1%80%D0%B5%D1%81%D1%81%D0%B8%D1%8F) с помощью хайлевел апи. Будем различать два класса состоящих из двух букв **А** и **В**."
   ]
  },
  {
   "cell_type": "code",
   "execution_count": 390,
   "metadata": {},
   "outputs": [],
   "source": [
    "import os\n",
    "import numpy as np\n",
    "from scipy.misc import imread,imresize\n",
    "from sklearn.model_selection import train_test_split\n",
    "from glob import glob\n",
    "# import urllib.request\n",
    "\n",
    "\n",
    "def load_notmnist(path='./notMNIST_small',letters='ABCDEFGHIJ',\n",
    "                  img_shape=(28,28),test_size=0.25,one_hot=False):\n",
    "    \n",
    "    # download data if it's missing. If you have any problems, go to the urls and load it manually.\n",
    "    if not os.path.exists(path):\n",
    "        print(\"Downloading data...\")\n",
    "        assert os.system('curl http://yaroslavvb.com/upload/notMNIST/notMNIST_small.tar.gz > notMNIST_small.tar.gz') == 0\n",
    "#         assert urllib.request.urlretrieve('http://yaroslavvb.com/upload/notMNIST/notMNIST_small.tar.gz', 'notMNIST_small.tar.gz') == 0\n",
    "        print(\"Extracting ...\")\n",
    "        assert os.system('tar -zxvf notMNIST_small.tar.gz > untar_notmnist.log') == 0\n",
    "    \n",
    "    data,labels = [],[]\n",
    "    print(\"Parsing...\")\n",
    "    for img_path in glob(os.path.join(path,'*/*')):\n",
    "        class_i = img_path.split(os.sep)[-2]\n",
    "        if class_i not in letters: continue\n",
    "        try:\n",
    "            data.append(imresize(imread(img_path), img_shape))\n",
    "            labels.append(class_i,)\n",
    "        except:\n",
    "            print(\"found broken img: %s [it's ok if <10 images are broken]\" % img_path)\n",
    "        \n",
    "    data = np.stack(data)[:,None].astype('float32')\n",
    "    data = (data - np.mean(data)) / np.std(data)\n",
    "\n",
    "    #convert classes to ints\n",
    "    letter_to_i = {l:i for i,l in enumerate(letters)}\n",
    "    labels = np.array(list(map(letter_to_i.get, labels)))\n",
    "    \n",
    "    if one_hot:\n",
    "        labels = (np.arange(np.max(labels) + 1)[None,:] == labels[:, None]).astype('float32')\n",
    "    \n",
    "    #split into train/test\n",
    "    X_train, X_test, y_train, y_test = train_test_split(data, labels, test_size=test_size, random_state=42)\n",
    "    \n",
    "    print(\"Done\")\n",
    "    return X_train, y_train, X_test, y_test"
   ]
  },
  {
   "cell_type": "code",
   "execution_count": 391,
   "metadata": {},
   "outputs": [
    {
     "name": "stdout",
     "output_type": "stream",
     "text": [
      "Parsing...\n"
     ]
    },
    {
     "name": "stderr",
     "output_type": "stream",
     "text": [
      "C:\\Users\\metya\\Anaconda3\\lib\\site-packages\\ipykernel_launcher.py:26: DeprecationWarning: `imread` is deprecated!\n",
      "`imread` is deprecated in SciPy 1.0.0, and will be removed in 1.2.0.\n",
      "Use ``imageio.imread`` instead.\n",
      "C:\\Users\\metya\\Anaconda3\\lib\\site-packages\\ipykernel_launcher.py:26: DeprecationWarning: `imresize` is deprecated!\n",
      "`imresize` is deprecated in SciPy 1.0.0, and will be removed in 1.2.0.\n",
      "Use ``skimage.transform.resize`` instead.\n"
     ]
    },
    {
     "name": "stdout",
     "output_type": "stream",
     "text": [
      "found broken img: ./notMNIST_small\\A\\RGVtb2NyYXRpY2FCb2xkT2xkc3R5bGUgQm9sZC50dGY=.png [it's ok if <10 images are broken]\n",
      "Done\n",
      "Train size = 2808, test_size = 937\n"
     ]
    }
   ],
   "source": [
    "X_train, y_train, X_test, y_test = load_notmnist(letters='AB')\n",
    "X_train, X_test = X_train.reshape([-1, 784]), X_test.reshape([-1, 784])\n",
    "\n",
    "print(\"Train size = %i, test_size = %i\"%(len(X_train),len(X_test)))"
   ]
  },
  {
   "cell_type": "code",
   "execution_count": 392,
   "metadata": {},
   "outputs": [
    {
     "data": {
      "image/png": "[encoded data removed]",
      "text/plain": [
       "<Figure size 432x288 with 2 Axes>"
      ]
     },
     "metadata": {},
     "output_type": "display_data"
    }
   ],
   "source": [
    "for i in [0,1]:\n",
    "    plt.subplot(1,2,i+1)\n",
    "    plt.imshow(X_train[i].reshape([28,28]))\n",
    "    plt.title(str(y_train[i]))"
   ]
  },
  {
   "cell_type": "code",
   "execution_count": 393,
   "metadata": {},
   "outputs": [
    {
     "name": "stdout",
     "output_type": "stream",
     "text": [
      "Base class for all neural network modules.\n",
      "\n",
      "    Your models should also subclass this class.\n",
      "\n",
      "    Modules can also contain other Modules, allowing to nest them in\n",
      "    a tree structure. You can assign the submodules as regular attributes::\n",
      "\n",
      "        import torch.nn as nn\n",
      "        import torch.nn.functional as F\n",
      "\n",
      "        class Model(nn.Module):\n",
      "            def __init__(self):\n",
      "                super(Model, self).__init__()\n",
      "                self.conv1 = nn.Conv2d(1, 20, 5)\n",
      "                self.conv2 = nn.Conv2d(20, 20, 5)\n",
      "\n",
      "            def forward(self, x):\n",
      "               x = F.relu(self.conv1(x))\n",
      "               return F.relu(self.conv2(x))\n",
      "\n",
      "    Submodules assigned in this way will be registered, and will have their\n",
      "    parameters converted too when you call `.cuda()`, etc.\n",
      "    \n"
     ]
    }
   ],
   "source": [
    "from torch import nn\n",
    "import torch.nn.functional as F\n",
    "\n",
    "print(nn.Module.__doc__)"
   ]
  },
  {
   "cell_type": "markdown",
   "metadata": {},
   "source": [
    "Формула логистической регрессии для бинарной классификации вот такая \n",
    "\n",
    "![](https://render.githubusercontent.com/render/math?math=P%28y_i%20%7C%20X_i%29%20%3D%20%5Csigma%28W%20%5Ccdot%20X_i%20%2B%20b%29%20%3D%7B%201%20%5Cover%20%7B1%2Be%5E%7B-%20%5BW%20%5Ccdot%20X_i%20%2B%20b%5D%7D%7D%20%7D&mode=display)\n",
    "\n",
    "$\\sigma$ - это функция называется сигмоида и раскрывается вот так $\\frac{1}{1+e^{-x}}$\n",
    "\n",
    "Определим модель:"
   ]
  },
  {
   "cell_type": "code",
   "execution_count": 394,
   "metadata": {},
   "outputs": [
    {
     "name": "stdout",
     "output_type": "stream",
     "text": [
      "Weight shapes: [torch.Size([1, 784]), torch.Size([1])]\n"
     ]
    }
   ],
   "source": [
    "# create a network that stacks layers on top of each other\n",
    "model = nn.Sequential()\n",
    "\n",
    "# add first \"dense\" layer with 784 input units and 1 output unit. \n",
    "model.add_module('l1', nn.Linear(784, 1))\n",
    "\n",
    "# add softmax activation for probabilities. Normalize over axis 1\n",
    "# note: layer names must be unique\n",
    "model.add_module('l2', nn.Sigmoid())\n",
    "\n",
    "print(\"Weight shapes:\", [w.shape for w in model.parameters()])"
   ]
  },
  {
   "cell_type": "code",
   "execution_count": 395,
   "metadata": {},
   "outputs": [
    {
     "data": {
      "text/plain": [
       "tensor([ 0.4036,  0.4508,  0.3606])"
      ]
     },
     "execution_count": 395,
     "metadata": {},
     "output_type": "execute_result"
    }
   ],
   "source": [
    "# create dummy data with 3 samples and 784 features\n",
    "x = torch.FloatTensor(X_train[:3])\n",
    "y = torch.FloatTensor(y_train[:3])\n",
    "\n",
    "# compute outputs given inputs, both are variables\n",
    "y_predicted = model(x)[:, 0]\n",
    "\n",
    "y_predicted # display what we've got"
   ]
  },
  {
   "cell_type": "markdown",
   "metadata": {},
   "source": [
    "Запишем функцию потерь (loss) для нашей задачи, минимум которой мы будем искать, чтобы научиться классифицировать. Для бинарной классификации чаще всего это функция кросс энтропии (или negative logloss).\n",
    "\n",
    "![](https://render.githubusercontent.com/render/math?math=L%20%3D%20%7B1%20%5Cover%20N%7D%20%5Cunderset%7BX_i%2Cy_i%7D%20%5Csum%20-%20%5B%20%20y_i%20%5Ccdot%20log%20P%28y_i%20%7C%20X_i%29%20%2B%20%281-y_i%29%20%5Ccdot%20log%20%281-P%28y_i%20%7C%20X_i%29%29%20%5D&mode=display)"
   ]
  },
  {
   "cell_type": "code",
   "execution_count": 396,
   "metadata": {},
   "outputs": [],
   "source": [
    "\n",
    "# crossentropy = \n",
    "\n",
    "BCE = torch.nn.modules.loss.BCELoss()\n",
    "loss = BCE(y_predicted, y)\n",
    "\n",
    "# assert tuple(crossentropy.size()) == (3,), \"Crossentropy must be a vector with element per sample\"\n",
    "assert tuple(loss.size()) == (), \"Loss must be scalar. Did you forget the mean/sum?\"\n",
    "assert loss.data.numpy() > 0, \"Crossentropy must non-negative, zero only for perfect prediction\"\n",
    "assert loss.data.numpy() <= np.log(3), \"Loss is too large even for untrained model. Please double-check it.\""
   ]
  },
  {
   "cell_type": "markdown",
   "metadata": {},
   "source": [
    "На каждой итерации надо будет занулять градиенты для наших параметров.\n",
    "Для удобства в пайторче есть уже имплементированные методы оптимизации`torch.optim`. Заюзаем стохастический градиентный спуск."
   ]
  },
  {
   "cell_type": "code",
   "execution_count": 397,
   "metadata": {},
   "outputs": [
    {
     "data": {
      "text/plain": [
       "tensor(0.6513)"
      ]
     },
     "execution_count": 397,
     "metadata": {},
     "output_type": "execute_result"
    }
   ],
   "source": [
    "loss"
   ]
  },
  {
   "cell_type": "code",
   "execution_count": 398,
   "metadata": {},
   "outputs": [],
   "source": [
    "opt = torch.optim.SGD(model.parameters(), lr=0.001)\n",
    "\n",
    "# here's how it's used:\n",
    "loss.backward()      # add new gradients\n",
    "opt.step()           # change weights\n",
    "# opt.zero_grad()      # clear gradients\n"
   ]
  },
  {
   "cell_type": "code",
   "execution_count": 399,
   "metadata": {},
   "outputs": [
    {
     "data": {
      "text/plain": [
       "[tensor([[-0.3111, -0.4614, -0.4990, -0.4973, -0.4922, -0.4826, -0.4529,\n",
       "          -0.4170, -0.2290, -0.0914,  0.0185,  0.1265,  0.1911,  0.1938,\n",
       "           0.1869,  0.1590,  0.0482, -0.0686, -0.0686, -0.0686, -0.0686,\n",
       "          -0.0686, -0.0686, -0.0647, -0.0686,  0.0063,  0.2388,  0.2607,\n",
       "          -0.5041, -0.5041, -0.5041, -0.5041, -0.4973, -0.4839, -0.5041,\n",
       "          -0.3709, -0.2407, -0.2428, -0.2407, -0.2202, -0.1041,  0.0633,\n",
       "           0.1948,  0.1938,  0.1948,  0.0327, -0.0686, -0.0655, -0.0686,\n",
       "          -0.0686, -0.0686, -0.0647, -0.0686,  0.1794,  0.2607,  0.1729,\n",
       "          -0.5007, -0.5024, -0.5007, -0.5041, -0.4235, -0.1522, -0.0973,\n",
       "           0.0686,  0.0018, -0.1430, -0.2339, -0.2407, -0.2418, -0.2407,\n",
       "          -0.0938,  0.1712,  0.1948,  0.1597, -0.0448, -0.0686, -0.0665,\n",
       "          -0.0686, -0.0647, -0.0686,  0.0283,  0.2607,  0.2555,  0.0141,\n",
       "          -0.5041, -0.5041, -0.4990, -0.5041, -0.4149, -0.1061, -0.0086,\n",
       "           0.1263,  0.1711,  0.1948, -0.0436, -0.2373, -0.2390, -0.2373,\n",
       "          -0.2407, -0.0904,  0.1907,  0.1897,  0.0347, -0.0686, -0.0655,\n",
       "          -0.0660, -0.0660, -0.0518,  0.2129,  0.2594,  0.1949, -0.0634,\n",
       "          -0.5041, -0.5041, -0.4990, -0.5041, -0.4187, -0.1130, -0.0675,\n",
       "          -0.0771,  0.0871,  0.1897,  0.1719, -0.1837, -0.2469, -0.2373,\n",
       "          -0.2407, -0.2066,  0.1484,  0.1948,  0.1343, -0.0686, -0.0675,\n",
       "          -0.0634, -0.0686,  0.1238,  0.2607,  0.2607,  0.0941, -0.0686,\n",
       "          -0.5041, -0.5041, -0.4990, -0.5041, -0.4187, -0.1102, -0.0686,\n",
       "          -0.0534,  0.1659,  0.1812,  0.1928, -0.1673, -0.3461, -0.2631,\n",
       "          -0.2407, -0.2093,  0.1118,  0.1948,  0.1873, -0.0024, -0.0647,\n",
       "          -0.0655,  0.0154,  0.2607,  0.2581,  0.2568, -0.0079, -0.0686,\n",
       "          -0.5041, -0.5041, -0.4990, -0.5041, -0.4204, -0.1150, -0.0720,\n",
       "           0.0162,  0.1897,  0.1928,  0.1470, -0.1895, -0.4680, -0.3303,\n",
       "          -0.2407, -0.2073,  0.1675,  0.1890,  0.1931,  0.0856, -0.0660,\n",
       "          -0.0536,  0.2103,  0.2607,  0.2607,  0.2000, -0.0660, -0.0673,\n",
       "          -0.5041, -0.5041, -0.4990, -0.5041, -0.4102, -0.0938, -0.0686,\n",
       "           0.1174,  0.1931,  0.1767, -0.0955, -0.3027, -0.5041, -0.4050,\n",
       "          -0.2407, -0.0727,  0.1948,  0.1887,  0.1948,  0.1793, -0.0469,\n",
       "           0.1109,  0.2617,  0.2439,  0.2607,  0.0993, -0.0686, -0.0634,\n",
       "          -0.5041, -0.5041, -0.5024, -0.5041, -0.4532, -0.3008, -0.2468,\n",
       "          -0.0611, -0.0955, -0.1970, -0.2407, -0.3791, -0.5041, -0.4814,\n",
       "          -0.1350,  0.1829,  0.1870,  0.1880,  0.1949,  0.1948,  0.1158,\n",
       "           0.2607,  0.1373,  0.2517,  0.2581, -0.0014, -0.0686, -0.0647,\n",
       "          -0.5041, -0.5041, -0.5041, -0.5041, -0.5010, -0.5041, -0.3812,\n",
       "          -0.2407, -0.2449, -0.2407, -0.2504, -0.4639, -0.5024, -0.3555,\n",
       "           0.0386,  0.1931,  0.1917,  0.1961,  0.1956,  0.1966,  0.4166,\n",
       "           0.1312,  0.1210,  0.2617,  0.2013, -0.0634, -0.0686, -0.0673,\n",
       "          -0.5041, -0.5041, -0.5024, -0.5041, -0.4734, -0.3828, -0.1745,\n",
       "          -0.1451, -0.1799, -0.2100, -0.3096, -0.5041, -0.5000, -0.5041,\n",
       "          -0.4133, -0.1604, -0.0669,  0.0559,  0.1528,  0.3704,  0.4973,\n",
       "           0.0316,  0.2259,  0.2638,  0.1083, -0.0686, -0.0634, -0.0686,\n",
       "          -0.5041, -0.5041, -0.4990, -0.5010, -0.4119, -0.0305,  0.1917,\n",
       "           0.1897,  0.1726,  0.1641, -0.0370, -0.2103, -0.2813, -0.3965,\n",
       "          -0.4729, -0.2789, -0.2368, -0.2428, -0.1446,  0.2426,  0.1725,\n",
       "           0.1602,  0.2607,  0.2561,  0.0016, -0.0686, -0.0647, -0.0686,\n",
       "          -0.5041, -0.5041, -0.4990, -0.5010, -0.4204,  0.0351,  0.1948,\n",
       "           0.1852,  0.1948,  0.1731, -0.0303, -0.0686, -0.0665, -0.0655,\n",
       "          -0.1130, -0.0533, -0.1190, -0.2306,  0.0386, -0.0112, -0.2407,\n",
       "           0.0643,  0.1347,  0.1984, -0.0621, -0.0720, -0.0686, -0.0686,\n",
       "          -0.5041, -0.5041, -0.4980, -0.5041, -0.4001,  0.1180,  0.1948,\n",
       "           0.1845,  0.1931,  0.1167, -0.0720, -0.0723, -0.0754, -0.0682,\n",
       "          -0.0686,  0.0190,  0.1931,  0.2726,  0.2290, -0.2083, -0.1861,\n",
       "           0.0844, -0.1108, -0.1902, -0.1126, -0.0647, -0.0720, -0.0686,\n",
       "          -0.5041, -0.5041, -0.4969, -0.5041, -0.3402,  0.1521,  0.1928,\n",
       "           0.1894,  0.1948,  0.0296, -0.0686, -0.0644, -0.0675, -0.0655,\n",
       "          -0.0681, -0.0427,  0.2348,  0.5241,  0.3191,  0.0770, -0.0022,\n",
       "           0.0885, -0.0249, -0.4357, -0.4590, -0.1667, -0.0686, -0.0686,\n",
       "          -0.5041, -0.5041, -0.4959, -0.5041, -0.2472,  0.1521,  0.1920,\n",
       "           0.1953,  0.1793, -0.0386, -0.0660, -0.0652, -0.0686, -0.0673,\n",
       "          -0.0626, -0.0634,  0.3875,  0.4312,  0.1822,  0.2052,  0.4097,\n",
       "           0.1829, -0.0171, -0.4738, -0.4994, -0.4809, -0.1505, -0.0686,\n",
       "          -0.5041, -0.5031, -0.4990, -0.4845, -0.1915,  0.1560,  0.1917,\n",
       "           0.1914,  0.1824,  0.1484,  0.1473,  0.1473,  0.1499,  0.1551,\n",
       "           0.1484,  0.3242,  0.4975,  0.2323,  0.1934,  0.2698,  0.5228,\n",
       "           0.3973, -0.0456, -0.4432, -0.4904, -0.5020, -0.4033, -0.0822,\n",
       "          -0.5041, -0.5000, -0.4990, -0.4246, -0.1553,  0.1501,  0.2155,\n",
       "           0.2818,  0.3149,  0.3046,  0.2581,  0.2103,  0.1948,  0.1948,\n",
       "           0.2904,  0.5241,  0.3291,  0.1948,  0.1948,  0.3842,  0.5173,\n",
       "           0.5094, -0.0563, -0.3605, -0.4934, -0.4933, -0.4989, -0.1326,\n",
       "          -0.5041, -0.5020, -0.4990, -0.3541, -0.1553,  0.3208,  0.5099,\n",
       "           0.5196,  0.5231,  0.5220,  0.5220,  0.4872,  0.4200,  0.3606,\n",
       "           0.5040,  0.4291,  0.1938,  0.1948,  0.1987,  0.4815,  0.5121,\n",
       "           0.4332, -0.0729, -0.2893, -0.4956, -0.5024, -0.5031, -0.2035,\n",
       "          -0.5041, -0.5041, -0.4910, -0.2789,  0.0151,  0.4248,  0.3059,\n",
       "           0.2676,  0.3252,  0.4053,  0.4931,  0.5241,  0.5241,  0.5241,\n",
       "           0.5241,  0.4737,  0.3692,  0.2826,  0.3549,  0.5241,  0.5096,\n",
       "           0.2803, -0.0733, -0.2479, -0.4359, -0.4572, -0.3551, -0.0136,\n",
       "          -0.5008, -0.5002, -0.4409, -0.2459, -0.0843,  0.1529,  0.1948,\n",
       "           0.0995, -0.0407, -0.0303, -0.0105,  0.0825,  0.2697,  0.2969,\n",
       "           0.2969,  0.3000,  0.2845,  0.3557,  0.5241,  0.5218,  0.5008,\n",
       "           0.3924,  0.1189,  0.0059, -0.0844, -0.1964, -0.2802, -0.1021,\n",
       "          -0.4989, -0.5041, -0.3699, -0.2407, -0.1584,  0.1490,  0.1987,\n",
       "           0.0114, -0.0647, -0.0551, -0.0686,  0.0038,  0.2555,  0.0735,\n",
       "           0.0322,  0.1156,  0.1949,  0.2837,  0.4905,  0.5138,  0.5220,\n",
       "           0.4524,  0.1650,  0.0524, -0.1245, -0.4473, -0.5031, -0.1000,\n",
       "          -0.5002, -0.4073, -0.2865, -0.2407, -0.1566,  0.1534,  0.1814,\n",
       "          -0.0242, -0.0634, -0.0634, -0.0123,  0.2537,  0.0704, -0.0665,\n",
       "          -0.0665, -0.0665, -0.0642,  0.1097,  0.4474,  0.4905,  0.2574,\n",
       "          -0.0421, -0.1991, -0.2279, -0.2501, -0.4814, -0.2679, -0.0649,\n",
       "          -0.2678, -0.1408, -0.1153, -0.2381, -0.1496,  0.1547,  0.1866,\n",
       "          -0.0282, -0.0703,  0.0039,  0.2418,  0.0894, -0.0737, -0.0689,\n",
       "          -0.0702, -0.0625, -0.0672,  0.1677,  0.4178,  0.2321, -0.1687,\n",
       "          -0.2407, -0.2339, -0.2383, -0.2356, -0.1928, -0.0788, -0.0634,\n",
       "          -0.1891, -0.0798,  0.0033, -0.2428, -0.1553,  0.1528,  0.1948,\n",
       "           0.1504,  0.2269,  0.2762,  0.1109, -0.0675, -0.0634, -0.0686,\n",
       "          -0.0647, -0.0703, -0.0484,  0.0745,  0.0983, -0.1878, -0.2382,\n",
       "          -0.2308, -0.2381, -0.1745,  0.0599,  0.1880,  0.1632,  0.1184,\n",
       "          -0.3109,  0.0231,  0.0868, -0.0798, -0.1222,  0.1905,  0.3253,\n",
       "           0.4657,  0.4199,  0.0771, -0.1051, -0.1290, -0.1715, -0.2325,\n",
       "          -0.3145, -0.4067, -0.3621, -0.2368, -0.1781, -0.2407, -0.2293,\n",
       "          -0.1417,  0.0394,  0.1795,  0.1928,  0.1845,  0.1948,  0.0761,\n",
       "          -0.4044, -0.0031,  0.0885,  0.0875,  0.0889,  0.1366,  0.1500,\n",
       "           0.1193, -0.2816, -0.4648, -0.4738, -0.4994, -0.5041, -0.5041,\n",
       "          -0.5041, -0.5020, -0.4951, -0.4158, -0.1425,  0.0014,  0.1227,\n",
       "           0.1880,  0.1948,  0.1931,  0.1894,  0.1948,  0.1597, -0.0396,\n",
       "          -0.1261, -0.1907, -0.0805,  0.0304,  0.0823,  0.0379, -0.0961,\n",
       "          -0.3698, -0.5024, -0.4845, -0.4734, -0.4495, -0.4067, -0.3589,\n",
       "          -0.3077, -0.2414, -0.1625,  0.0129,  0.1987,  0.1890,  0.1948,\n",
       "           0.1914,  0.1880,  0.1869,  0.1711,  0.1215, -0.0107, -0.0686]]),\n",
       " tensor(1.00000e-02 *\n",
       "        [ 7.1699])]"
      ]
     },
     "execution_count": 399,
     "metadata": {},
     "output_type": "execute_result"
    }
   ],
   "source": [
    "[p.grad for p in model.parameters()]"
   ]
  },
  {
   "cell_type": "code",
   "execution_count": 400,
   "metadata": {},
   "outputs": [],
   "source": [
    "# y.requires_grad = False\n",
    "\n",
    "# dispose of o`a`ld variables to avoid bugs later\n",
    "# del x, y, y_predicted, loss\n"
   ]
  },
  {
   "cell_type": "markdown",
   "metadata": {},
   "source": [
    "### Для наглядности повторим в одном месте и собираем в цельное"
   ]
  },
  {
   "cell_type": "code",
   "execution_count": 401,
   "metadata": {},
   "outputs": [
    {
     "ename": "SyntaxError",
     "evalue": "invalid syntax (<ipython-input-401-08377896440f>, line 18)",
     "output_type": "error",
     "traceback": [
      "\u001b[1;36m  File \u001b[1;32m\"<ipython-input-401-08377896440f>\"\u001b[1;36m, line \u001b[1;32m18\u001b[0m\n\u001b[1;33m    y_predicted = ### YOUR CODE\u001b[0m\n\u001b[1;37m                               ^\u001b[0m\n\u001b[1;31mSyntaxError\u001b[0m\u001b[1;31m:\u001b[0m invalid syntax\n"
     ]
    }
   ],
   "source": [
    "# create network again just in case\n",
    "model = nn.Sequential()\n",
    "model.add_module('first', nn.Linear(784, 1))\n",
    "model.add_module('second', nn.Sigmoid())\n",
    "\n",
    "opt = torch.optim.SGD(model.parameters(), lr=1e-3)\n",
    "\n",
    "history = []\n",
    "\n",
    "for i in range(100):\n",
    "    \n",
    "    # sample 256 random images\n",
    "    ix = np.random.randint(0, len(X_train), 256)\n",
    "    x_batch = torch.FloatTensor(X_train[ix])\n",
    "    y_batch = torch.FloatTensor(y_train[ix])\n",
    "    \n",
    "    # predict probabilities\n",
    "    y_predicted = ### YOUR CODE\n",
    "    \n",
    "    # compute loss, just like before\n",
    "    loss = ### YOUR CODE\n",
    "    \n",
    "    # compute gradients\n",
    "    <YOUR CODE>\n",
    "    \n",
    "    # optimizer step\n",
    "    <YOUR CODE>\n",
    "    \n",
    "    # clear gradients\n",
    "    <YOUR CODE>\n",
    "    \n",
    "    history.append(loss.data.numpy()[0])\n",
    "    \n",
    "    if i % 10 == 0:\n",
    "        print(\"step #%i | mean loss = %.3f\" % (i, np.mean(history[-10:])))"
   ]
  },
  {
   "cell_type": "markdown",
   "metadata": {},
   "source": [
    "### Выполняем\n",
    "Посмотрим что там у нас вышло."
   ]
  },
  {
   "cell_type": "code",
   "execution_count": null,
   "metadata": {},
   "outputs": [],
   "source": [
    "# use your model to predict classes (0 or 1) for all test samples\n",
    "predicted_y_test = ### YOUR CODE\n",
    "         \n",
    "assert isinstance(predicted_y_test, np.ndarray), \"please return np array, not %s\" % type(predicted_y_test)\n",
    "assert predicted_y_test.shape == y_test.shape, \"please predict one class for each test sample\"\n",
    "assert np.in1d(predicted_y_test, y_test).all(), \"please predict class indexes\"\n",
    "\n",
    "accuracy = np.mean(predicted_y_test == y_test)\n",
    "\n",
    "print(\"Test accuracy: %.5f\" % accuracy)\n",
    "assert accuracy > 0.95, \"try training longer\""
   ]
  },
  {
   "cell_type": "markdown",
   "metadata": {},
   "source": [
    "### Сохранение и загрузка моделек\n",
    "Для последующих целей в будущем, нашу модель можно сохранить и потом загрузить."
   ]
  },
  {
   "cell_type": "code",
   "execution_count": null,
   "metadata": {},
   "outputs": [],
   "source": [
    "torch.save(torch.state_dict(), 'modelka')\n",
    "\n",
    "\n",
    "model.load_dict(torch.load('modelka')\n",
    "\n",
    "model.eval()"
   ]
  },
  {
   "cell_type": "code",
   "execution_count": 402,
   "metadata": {},
   "outputs": [
    {
     "ename": "NameError",
     "evalue": "name 'Огромны' is not defined",
     "output_type": "error",
     "traceback": [
      "\u001b[1;31m---------------------------------------------------------------------------\u001b[0m",
      "\u001b[1;31mNameError\u001b[0m                                 Traceback (most recent call last)",
      "\u001b[1;32m<ipython-input-402-efa3747e3523>\u001b[0m in \u001b[0;36m<module>\u001b[1;34m()\u001b[0m\n\u001b[1;32m----> 1\u001b[1;33m \u001b[0mОгромны\u001b[0m\u001b[1;33m\u001b[0m\u001b[0m\n\u001b[0m",
      "\u001b[1;31mNameError\u001b[0m: name 'Огромны' is not defined"
     ]
    }
   ],
   "source": [
    "Огромны"
   ]
  },
  {
   "cell_type": "code",
   "execution_count": 403,
   "metadata": {},
   "outputs": [
    {
     "ename": "NameError",
     "evalue": "name 'animation' is not defined",
     "output_type": "error",
     "traceback": [
      "\u001b[1;31m---------------------------------------------------------------------------\u001b[0m",
      "\u001b[1;31mNameError\u001b[0m                                 Traceback (most recent call last)",
      "\u001b[1;32m<ipython-input-403-49b88d8d19d8>\u001b[0m in \u001b[0;36m<module>\u001b[1;34m()\u001b[0m\n\u001b[0;32m     13\u001b[0m     \u001b[1;32mreturn\u001b[0m \u001b[0mline\u001b[0m\u001b[1;33m,\u001b[0m\u001b[1;33m\u001b[0m\u001b[0m\n\u001b[0;32m     14\u001b[0m \u001b[1;33m\u001b[0m\u001b[0m\n\u001b[1;32m---> 15\u001b[1;33m \u001b[0mani\u001b[0m \u001b[1;33m=\u001b[0m \u001b[0manimation\u001b[0m\u001b[1;33m.\u001b[0m\u001b[0mFuncAnimation\u001b[0m\u001b[1;33m(\u001b[0m\u001b[0mfig\u001b[0m\u001b[1;33m,\u001b[0m \u001b[0manimate\u001b[0m\u001b[1;33m,\u001b[0m \u001b[0mnp\u001b[0m\u001b[1;33m.\u001b[0m\u001b[0marange\u001b[0m\u001b[1;33m(\u001b[0m\u001b[1;36m1\u001b[0m\u001b[1;33m,\u001b[0m \u001b[1;36m200\u001b[0m\u001b[1;33m)\u001b[0m\u001b[1;33m,\u001b[0m \u001b[0minit_func\u001b[0m\u001b[1;33m=\u001b[0m\u001b[0minit\u001b[0m\u001b[1;33m,\u001b[0m \u001b[0minterval\u001b[0m\u001b[1;33m=\u001b[0m\u001b[1;36m25\u001b[0m\u001b[1;33m,\u001b[0m \u001b[0mblit\u001b[0m\u001b[1;33m=\u001b[0m\u001b[1;32mTrue\u001b[0m\u001b[1;33m)\u001b[0m\u001b[1;33m\u001b[0m\u001b[0m\n\u001b[0m",
      "\u001b[1;31mNameError\u001b[0m: name 'animation' is not defined"
     ]
    },
    {
     "data": {
      "image/png": "[encoded data removed]",
      "text/plain": [
       "<Figure size 432x288 with 1 Axes>"
      ]
     },
     "metadata": {},
     "output_type": "display_data"
    }
   ],
   "source": [
    "fig, ax = plt.subplots()\n",
    "\n",
    "x = np.arange(0, 2*np.pi, 0.01)\n",
    "line, = ax.plot(x, np.sin(x))\n",
    "\n",
    "def animate(i):\n",
    "    line.set_ydata(np.sin(x + i/10.0))  # update the data\n",
    "    return line,\n",
    "\n",
    "# Init only required for blitting to give a clean slate.\n",
    "def init():\n",
    "    line.set_ydata(np.ma.array(x, mask=True))\n",
    "    return line,\n",
    "\n",
    "ani = animation.FuncAnimation(fig, animate, np.arange(1, 200), init_func=init, interval=25, blit=True)"
   ]
  },
  {
   "cell_type": "code",
   "execution_count": null,
   "metadata": {},
   "outputs": [],
   "source": [
    "torch.normal"
   ]
  }
 ],
 "metadata": {
  "kernelspec": {
   "display_name": "Python 3",
   "language": "python",
   "name": "python3"
  },
  "language_info": {
   "codemirror_mode": {
    "name": "ipython",
    "version": 3
   },
   "file_extension": ".py",
   "mimetype": "text/x-python",
   "name": "python",
   "nbconvert_exporter": "python",
   "pygments_lexer": "ipython3",
   "version": "3.6.5"
  }
 },
 "nbformat": 4,
 "nbformat_minor": 2
}
